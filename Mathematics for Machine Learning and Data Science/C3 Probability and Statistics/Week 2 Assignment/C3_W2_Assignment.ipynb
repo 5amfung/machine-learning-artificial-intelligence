{
 "cells": [
  {
   "cell_type": "markdown",
   "id": "4caafec3",
   "metadata": {},
   "source": [
    "# Loaded dice \n",
    "\n",
    "Welcome to the second assignment in the course Probability and Statistics for Machine Learning and Data Science! In this quiz-like assignment you will test your intuition about the concepts covered in the lectures by taking the example with the dice to the next level. \n",
    "\n",
    "**This assignment can be completed with just pencil and paper, or even your intuition about probability, but in many questions using the skills you're developing as a programmer may help**. "
   ]
  },
  {
   "cell_type": "markdown",
   "id": "3bff9c20",
   "metadata": {},
   "source": [
    "## 1 - Introduction\n",
    "\n",
    "You will be presented with 11 questions regarding a several dice games. Sometimes the dice is loaded, sometimes it is not. You will have clear instructions for each exercise.\n",
    "\n",
    "### 1.1 How to go through the assignment\n",
    "\n",
    "In each exercise you there will be a question about throwing some dice that may or may not be loaded. You will have to answer questions about the results of each scenario, such as calculating the expected value of the dice throw or selecting the graph that best represents the distribution of outcomes. \n",
    "\n",
    "In any case, **you will be able to solve the exercise with one of the following methods:**\n",
    "\n",
    "- **By hand:** You may make your calculations by hand, using the theory you have developed in the lectures.\n",
    "- **Using Python:** You may use the empty block of code provided to make computations and simulations, to obtain the result.\n",
    "\n",
    "After each exercise you will save your solution by running a special code cell and adding your answer. The cells contain a single line of code in the format `utils.exercise_1()` which will launch the interface in which you can save your answer. **You will save your responses to each exercise as you go, but you won't submit all your responses for grading until you submit this assignment at the end.**\n",
    "\n",
    "Let's go over an example! Before, let's import the necessary libraries."
   ]
  },
  {
   "cell_type": "markdown",
   "id": "3d256624",
   "metadata": {},
   "source": [
    "## 2 - Importing the libraries"
   ]
  },
  {
   "cell_type": "code",
   "execution_count": 1,
   "id": "da0fcf2f",
   "metadata": {},
   "outputs": [],
   "source": [
    "import numpy as np\n",
    "import pandas as pd\n",
    "import seaborn as sns\n",
    "import matplotlib.pyplot as plt\n",
    "import utils"
   ]
  },
  {
   "cell_type": "markdown",
   "id": "e1637bc9",
   "metadata": {},
   "source": [
    "## 3 - A worked example on how to complete this assignment.\n",
    "\n",
    "Now let's go over one example question, so you understand how to go through the assignment.\n",
    "\n",
    "### 3.1 Example question\n",
    "\n",
    "Question: Given a 6-sided fair dice, you throw it two times and save the result. What is the probability that the sum of your two throws is greater than 5? (Give your result with 1 decimal place).\n",
    "\n",
    "After the question, you will see the following block of code."
   ]
  },
  {
   "cell_type": "code",
   "execution_count": 2,
   "id": "c789233e",
   "metadata": {},
   "outputs": [],
   "source": [
    "# You can use this cell for your calculations (not graded)\n"
   ]
  },
  {
   "cell_type": "markdown",
   "id": "02528065",
   "metadata": {},
   "source": [
    "You may use it as you wish to solve the exercise. Or you can just ignore it and use pencil and pen to solve. It is up to you! **You will only save your final answer**. \n",
    "\n",
    "### 3.2 Solving using simulations in Python\n",
    "\n",
    "Let's solve this question in both ways. First, using Python. You may check the ungraded lab Dice Simulations that appears right before this assignment to help you simulate dice throws. Remember that, to get a good approximation, you need to simulate it a lot of times! You will see why this is true in the following weeks, but this is quite intuitive."
   ]
  },
  {
   "cell_type": "code",
   "execution_count": 3,
   "id": "309a3457",
   "metadata": {},
   "outputs": [
    {
     "name": "stdout",
     "output_type": "stream",
     "text": [
      "The probability by this simulation is: 0.719\n"
     ]
    }
   ],
   "source": [
    "# You can use this cell for your calculations (not graded)\n",
    "\n",
    "# This list represents each dice side\n",
    "dice = [1,2,3,4,5,6]\n",
    "\n",
    "# The idea is to randomly choose one element from this list three times and sum them. \n",
    "# Each time we choose, it is as if we had thrown a dice and the side is the chosen number.\n",
    "# This list will store the sum for each iteration. The idea is to repeat this experiment several times.\n",
    "sum_results = []\n",
    "\n",
    "number_iterations = 1000\n",
    "\n",
    "# Setting a random seed just for reproducibility\n",
    "np.random.seed(42)\n",
    "# It will play this game number_iteration times\n",
    "for i in range(number_iterations):\n",
    "    # Throw the first dice\n",
    "    throw_1 = np.random.choice(dice)\n",
    "    # Throw the second dice\n",
    "    throw_2 = np.random.choice(dice)\n",
    "    # Sum the result\n",
    "    sum_throw = throw_1 + throw_2\n",
    "    # Append to the sum_result list\n",
    "    sum_results.append(sum_throw)\n",
    "\n",
    "# After recording all the sums, the actual probability will be very close to the proportion among every sum greater than 10 in the sum_results list.\n",
    "greater_5_count = 0\n",
    "\n",
    "for x in sum_results:\n",
    "    if x > 5:\n",
    "        greater_5_count += 1\n",
    "\n",
    "probability = greater_5_count/len(sum_results)    \n",
    "print(f\"The probability by this simulation is: {probability}\")"
   ]
  },
  {
   "cell_type": "markdown",
   "id": "37524317",
   "metadata": {},
   "source": [
    "So the result you would get, rounding in to decimal place, would be 0.7! Let's solve it \"by hand\".\n",
    "\n",
    "### 3.3 Solving using the theory\n",
    "\n",
    "When throwing two dice, there are $36$ possible outcomes:\n",
    "\n",
    "$$(1,1), (1,2), \\ldots, (6,6)$$\n",
    "\n",
    "You must count how many of them lead to a sum greater than 5. They are:\n",
    "\n",
    "* If the first throw is $1$, there are $2$ possibilities for the second throw: 5 or 6.\n",
    "* If the first throw is $2$, there are $3$ possibilities for the second throw: 4, 5 or 6.\n",
    "* If the first throw is $3$, there are $4$ possibilities for the second throw: 3, 4, 5 or 6.\n",
    "* If the first throw is $4$, there are $5$ possibilities for the second throw: 2, 3, 4, 5 or 6.\n",
    "* If the first throw is $5$, there are $6$ possibilities for the second throw: 1, 2, 3, 4, 5 or 6.\n",
    "* If the first throw is $6$, there are $6$ possibilities for the second throw: 1, 2, 3, 4, 5 or 6.\n",
    "\n",
    "So, in total there are $2 + 3 + 4 + 5 + 6 + 6 = 26$, possibilities that sum greater than 5.\n",
    "\n",
    "The probability is then $\\frac{26}{36} \\approx 0.72$. Rounding it to 1 decimal place, the result is also 0.7!\n"
   ]
  },
  {
   "cell_type": "markdown",
   "id": "29b9f3ed",
   "metadata": {},
   "source": [
    "### 3.4 Saving your answer\n",
    "\n",
    "Once you get your answer in hands, it is time to save it. Run the next code below to see what it will look like. You just add your answer as requested and click on \"Save your answer!\""
   ]
  },
  {
   "cell_type": "code",
   "execution_count": 4,
   "id": "38539358",
   "metadata": {},
   "outputs": [
    {
     "data": {
      "application/vnd.jupyter.widget-view+json": {
       "model_id": "67ce059bb17741e69edc7f0ddd9d0777",
       "version_major": 2,
       "version_minor": 0
      },
      "text/plain": [
       "FloatText(value=0.0, description='Probability:')"
      ]
     },
     "metadata": {},
     "output_type": "display_data"
    },
    {
     "data": {
      "application/vnd.jupyter.widget-view+json": {
       "model_id": "0875f75919d7462087509eb9147e49bf",
       "version_major": 2,
       "version_minor": 0
      },
      "text/plain": [
       "Button(button_style='success', description='Save your answer!', style=ButtonStyle())"
      ]
     },
     "metadata": {},
     "output_type": "display_data"
    },
    {
     "data": {
      "application/vnd.jupyter.widget-view+json": {
       "model_id": "ebe9507510624491b08111936194abd6",
       "version_major": 2,
       "version_minor": 0
      },
      "text/plain": [
       "Output()"
      ]
     },
     "metadata": {},
     "output_type": "display_data"
    }
   ],
   "source": [
    "utils.exercise_example()"
   ]
  },
  {
   "cell_type": "markdown",
   "id": "73d4776c",
   "metadata": {},
   "source": [
    "And that's it! Once you save one question, you can go to the next one. If you want to change your solution, just run the code again and input the new solution, it will overwrite the previous one. At the end of the assignment, you will be able to check if you have forgotten to save any question. \n",
    "\n",
    "Once you finish the assignment, you may submit it as you usually would. Your most recently save answers to each exercise will then be graded."
   ]
  },
  {
   "cell_type": "markdown",
   "id": "4546a127",
   "metadata": {},
   "source": [
    "## 4 - Some concept clarifications 🎲🎲🎲\n",
    "\n",
    "During this assignment you will be presented with various scenarios that involve dice. Usually dice can have different numbers of sides and can be either fair or loaded.\n",
    "\n",
    "- A fair dice has equal probability of landing on every side.\n",
    "- A loaded dice does not have equal probability of landing on every side. Usually one (or more) sides have a greater probability of showing up than the rest.\n",
    "\n",
    "Alright, that's all your need to know to complete this assignment. Time to start rolling some dice!"
   ]
  },
  {
   "cell_type": "markdown",
   "id": "c8f09f02",
   "metadata": {},
   "source": [
    "## Exercise 1:\n",
    "\n"
   ]
  },
  {
   "cell_type": "markdown",
   "id": "3510c610",
   "metadata": {},
   "source": [
    "Given a 6-sided fair dice (all of the sides have equal probability of showing up), compute the mean and variance for the probability distribution that models said dice. The next figure shows you a visual represenatation of said distribution:\n",
    "\n",
    "<img src=\"./images/fair_dice.png\" style=\"height: 300px;\"/>\n",
    "\n",
    "**Submission considerations:**\n",
    "- Submit your answers as floating point numbers with three digits after the decimal point\n",
    "- Example: To submit the value of 1/4 enter 0.250"
   ]
  },
  {
   "cell_type": "markdown",
   "id": "5ee9b479",
   "metadata": {},
   "source": [
    "Hints: \n",
    "- You can use [np.random.choice](https://numpy.org/doc/stable/reference/random/generated/numpy.random.choice.html) to simulate a fair dice.\n",
    "- You can use [np.mean](https://numpy.org/doc/stable/reference/generated/numpy.mean.html) and [np.var](https://numpy.org/doc/stable/reference/generated/numpy.var.html) to compute the mean and variance of a numpy array."
   ]
  },
  {
   "cell_type": "code",
   "execution_count": 5,
   "id": "df437e8e",
   "metadata": {},
   "outputs": [
    {
     "name": "stdout",
     "output_type": "stream",
     "text": [
      "mean = 3.4868\n",
      "var = 2.92982576\n",
      "mean = 3.5\n",
      "var = 2.9166666666666665\n"
     ]
    }
   ],
   "source": [
    "# You can use this cell for your calculations (not graded)\n",
    "\n",
    "#\n",
    "# Calculate by simulation.\n",
    "#\n",
    "num_rolls = 10_000\n",
    "\n",
    "rolls = [np.random.choice(dice) for _ in range(num_rolls)]\n",
    "mean = np.sum(rolls) / num_rolls\n",
    "var = np.sum(np.square(rolls)) / num_rolls - mean**2\n",
    "\n",
    "print(f'mean = {mean}')\n",
    "print(f'var = {var}')\n",
    "\n",
    "#\n",
    "# Calculate by math.\n",
    "#\n",
    "mean = np.mean(dice)\n",
    "var = np.var(dice)\n",
    "\n",
    "print(f'mean = {mean}')\n",
    "print(f'var = {var}')"
   ]
  },
  {
   "cell_type": "code",
   "execution_count": 6,
   "id": "db9477e7",
   "metadata": {},
   "outputs": [
    {
     "data": {
      "application/vnd.jupyter.widget-view+json": {
       "model_id": "8f89256fb3c94b6c9f6e9af6874c5007",
       "version_major": 2,
       "version_minor": 0
      },
      "text/plain": [
       "FloatText(value=0.0, description='Mean:')"
      ]
     },
     "metadata": {},
     "output_type": "display_data"
    },
    {
     "data": {
      "application/vnd.jupyter.widget-view+json": {
       "model_id": "dad5a69a4e674ad6aa128acc1ab924f7",
       "version_major": 2,
       "version_minor": 0
      },
      "text/plain": [
       "FloatText(value=0.0, description='Variance:')"
      ]
     },
     "metadata": {},
     "output_type": "display_data"
    },
    {
     "data": {
      "application/vnd.jupyter.widget-view+json": {
       "model_id": "2be5a09f69ea4056a2f072ff5be7b368",
       "version_major": 2,
       "version_minor": 0
      },
      "text/plain": [
       "Button(button_style='success', description='Save your answer!', style=ButtonStyle())"
      ]
     },
     "metadata": {},
     "output_type": "display_data"
    },
    {
     "data": {
      "application/vnd.jupyter.widget-view+json": {
       "model_id": "ee08dc98afeb4a66aa53511f19148149",
       "version_major": 2,
       "version_minor": 0
      },
      "text/plain": [
       "Output()"
      ]
     },
     "metadata": {},
     "output_type": "display_data"
    }
   ],
   "source": [
    "# Run this cell to submit your answer\n",
    "utils.exercise_1()"
   ]
  },
  {
   "cell_type": "markdown",
   "id": "d43dcbbd",
   "metadata": {},
   "source": [
    "## Exercise 2:\n",
    "\n",
    "Now suppose you are throwing the dice (same dice as in the previous exercise) two times and recording the sum of each throw. Which of the following `probability mass functions` will be the one you should get?\n",
    "\n",
    "<table><tr>\n",
    "<td> <img src=\"./images/hist_sum_6_side.png\" style=\"height: 300px;\"/> </td>\n",
    "<td> <img src=\"./images/hist_sum_5_side.png\" style=\"height: 300px;\"/> </td>\n",
    "<td> <img src=\"./images/hist_sum_6_uf.png\" style=\"height: 300px;\"/> </td>\n",
    "</tr></table>\n"
   ]
  },
  {
   "cell_type": "markdown",
   "id": "605c58c0",
   "metadata": {},
   "source": [
    "Hints: \n",
    "- You can use numpy arrays to hold the results of many throws.\n",
    "- You can sum to numpy arrays by using the `+` operator like this: `sum = first_throw + second_throw`\n",
    "- To simulate multiple throws of a dice you can use list comprehension or a for loop"
   ]
  },
  {
   "cell_type": "code",
   "execution_count": 7,
   "id": "e9a8b2ed",
   "metadata": {},
   "outputs": [
    {
     "data": {
      "text/plain": [
       "<Axes: ylabel='Probability'>"
      ]
     },
     "execution_count": 7,
     "metadata": {},
     "output_type": "execute_result"
    },
    {
     "data": {
      "image/png": "[encoded data removed]",
      "text/plain": [
       "<Figure size 640x480 with 1 Axes>"
      ]
     },
     "metadata": {},
     "output_type": "display_data"
    }
   ],
   "source": [
    "# You can use this cell for your calculations (not graded)\n",
    "\n",
    "num_rolls = 10_000\n",
    "\n",
    "first_rolls = np.array([np.random.choice(dice) for _ in range(num_rolls)])\n",
    "second_rolls = np.array([np.random.choice(dice) for _ in range(num_rolls)])\n",
    "sum_of_rolls = first_rolls + second_rolls\n",
    "\n",
    "sns.histplot(sum_of_rolls, stat='probability', discrete=True)\n",
    "\n"
   ]
  },
  {
   "cell_type": "code",
   "execution_count": 8,
   "id": "d4d5dcf9",
   "metadata": {},
   "outputs": [
    {
     "data": {
      "application/vnd.jupyter.widget-view+json": {
       "model_id": "7abbb70b2e654d80a10fced76ac35920",
       "version_major": 2,
       "version_minor": 0
      },
      "text/plain": [
       "ToggleButtons(description='Your answer:', options=('left', 'center', 'right'), value='left')"
      ]
     },
     "metadata": {},
     "output_type": "display_data"
    },
    {
     "data": {
      "application/vnd.jupyter.widget-view+json": {
       "model_id": "af667a4a890345b3b2f4300c07042e32",
       "version_major": 2,
       "version_minor": 0
      },
      "text/plain": [
       "Button(button_style='success', description='Save your answer!', style=ButtonStyle())"
      ]
     },
     "metadata": {},
     "output_type": "display_data"
    },
    {
     "data": {
      "application/vnd.jupyter.widget-view+json": {
       "model_id": "d0f0ea88189d43a1b747f5f96ec563e7",
       "version_major": 2,
       "version_minor": 0
      },
      "text/plain": [
       "Output()"
      ]
     },
     "metadata": {},
     "output_type": "display_data"
    }
   ],
   "source": [
    "# Run this cell to submit your answer\n",
    "utils.exercise_2()"
   ]
  },
  {
   "cell_type": "markdown",
   "id": "adfb889c",
   "metadata": {},
   "source": [
    "## Exercise 3:\n",
    "\n",
    "Given a fair 4-sided dice, you throw it two times and record the sum. The figure on the left shows the probabilities of the dice landing on each side and the right figure the histogram of the sum. Fill out the probabilities of each sum (notice that the distribution of the sum is symetrical so you only need to input 4 values in total):\n",
    "\n",
    "<img src=\"./images/4_side_hists.png\" style=\"height: 300px;\"/>\n",
    "\n",
    "**Submission considerations:**\n",
    "- Submit your answers as floating point numbers with three digits after the decimal point\n",
    "- Example: To submit the value of 1/4 enter 0.250"
   ]
  },
  {
   "cell_type": "code",
   "execution_count": 9,
   "id": "342ca685",
   "metadata": {},
   "outputs": [
    {
     "name": "stdout",
     "output_type": "stream",
     "text": [
      "2 is 0.0622\n",
      "3 is 0.1278\n",
      "4 is 0.1835\n",
      "5 is 0.2531\n",
      "6 is 0.1884\n",
      "7 is 0.1217\n",
      "8 is 0.0633\n",
      "\n",
      "2|8 is 0.0625\n",
      "3|7 is 0.125\n",
      "4|6 is 0.1875\n",
      "5 is 0.25\n"
     ]
    },
    {
     "data": {
      "image/png": "[encoded data removed]",
      "text/plain": [
       "<Figure size 640x480 with 1 Axes>"
      ]
     },
     "metadata": {},
     "output_type": "display_data"
    }
   ],
   "source": [
    "# You can use this cell for your calculations (not graded)\n",
    "dice = [1, 2, 3, 4]\n",
    "\n",
    "# Calculate by simulation.\n",
    "num_rolls = 10_000\n",
    "\n",
    "first_rolls = np.array([np.random.choice(dice) for _ in range(num_rolls)])\n",
    "second_rolls = np.array([np.random.choice(dice) for _ in range(num_rolls)])\n",
    "sum_rolls = first_rolls + second_rolls\n",
    "cnt = np.bincount(sum_rolls)\n",
    "\n",
    "for i in range(2, 9):\n",
    "    print(f'{i} is {cnt[i] / num_rolls}')\n",
    "print()\n",
    "\n",
    "sns.histplot(sum_rolls, stat='probability', discrete=True)\n",
    "\n",
    "# Calculate by math.\n",
    "#\n",
    "# 4x4=16 total possibilities\n",
    "#\n",
    "# 2 = (1,1)\n",
    "# 3 = (1,2), (2,1)\n",
    "# 4 = (1,3), (2,2), (3,1)\n",
    "# 5 = (1,4), (2,3), (3,2), (4,1)\n",
    "# 6 = (2,4), (3,3), (4,2)\n",
    "# 7 = (3,4), (4,3)\n",
    "# 8 = (4,4)\n",
    "\n",
    "two = 1/16\n",
    "three = 2/16\n",
    "four = 3/16\n",
    "five = 4/16\n",
    "\n",
    "print(f'2|8 is {two}')\n",
    "print(f'3|7 is {three}')\n",
    "print(f'4|6 is {four}')\n",
    "print(f'5 is {five}')\n",
    "\n",
    "      \n"
   ]
  },
  {
   "cell_type": "code",
   "execution_count": 10,
   "id": "e0a24beb",
   "metadata": {},
   "outputs": [
    {
     "data": {
      "application/vnd.jupyter.widget-view+json": {
       "model_id": "2013b8dd11844d4e8ada74e61d1db845",
       "version_major": 2,
       "version_minor": 0
      },
      "text/plain": [
       "FloatText(value=0.0, description='P for sum=2|8', style=DescriptionStyle(description_width='initial'))"
      ]
     },
     "metadata": {},
     "output_type": "display_data"
    },
    {
     "data": {
      "application/vnd.jupyter.widget-view+json": {
       "model_id": "7e825a84e7d0468b8634313d98538594",
       "version_major": 2,
       "version_minor": 0
      },
      "text/plain": [
       "FloatText(value=0.0, description='P for sum=3|7:', style=DescriptionStyle(description_width='initial'))"
      ]
     },
     "metadata": {},
     "output_type": "display_data"
    },
    {
     "data": {
      "application/vnd.jupyter.widget-view+json": {
       "model_id": "00c0d1f0ffda470a87154694d8fd8b48",
       "version_major": 2,
       "version_minor": 0
      },
      "text/plain": [
       "FloatText(value=0.0, description='P for sum=4|6:', style=DescriptionStyle(description_width='initial'))"
      ]
     },
     "metadata": {},
     "output_type": "display_data"
    },
    {
     "data": {
      "application/vnd.jupyter.widget-view+json": {
       "model_id": "699c61d1848249519368dd6ddb7159a1",
       "version_major": 2,
       "version_minor": 0
      },
      "text/plain": [
       "FloatText(value=0.0, description='P for sum=5:', style=DescriptionStyle(description_width='initial'))"
      ]
     },
     "metadata": {},
     "output_type": "display_data"
    },
    {
     "data": {
      "application/vnd.jupyter.widget-view+json": {
       "model_id": "0dfe1abe4f064ef38905a9dbc9f4b2b5",
       "version_major": 2,
       "version_minor": 0
      },
      "text/plain": [
       "Button(button_style='success', description='Save your answer!', style=ButtonStyle())"
      ]
     },
     "metadata": {},
     "output_type": "display_data"
    },
    {
     "data": {
      "application/vnd.jupyter.widget-view+json": {
       "model_id": "faeae99985cf45a0a455ee32d699af49",
       "version_major": 2,
       "version_minor": 0
      },
      "text/plain": [
       "Output()"
      ]
     },
     "metadata": {},
     "output_type": "display_data"
    }
   ],
   "source": [
    "# Run this cell to submit your answer\n",
    "utils.exercise_3()"
   ]
  },
  {
   "cell_type": "markdown",
   "id": "108837bd",
   "metadata": {},
   "source": [
    "## Exercise 4:\n",
    "\n",
    "Using the same scenario as in the previous exercise. Compute the mean and variance of the sum of the two throws  and the covariance between the first and the second throw:\n",
    "\n",
    "<img src=\"./images/4_sided_hist_no_prob.png\" style=\"height: 300px;\"/>\n",
    "\n",
    "\n",
    "Hints:\n",
    "- You can use [np.cov](https://numpy.org/doc/stable/reference/generated/numpy.cov.html) to compute the covariance of two numpy arrays (this may not be needed for this particular exercise)."
   ]
  },
  {
   "cell_type": "code",
   "execution_count": 11,
   "id": "f4eadc3c",
   "metadata": {},
   "outputs": [
    {
     "name": "stdout",
     "output_type": "stream",
     "text": [
      "mean of first roll is 2.49442\n",
      "var of first roll is 1.2507888636\n",
      "\n",
      "mean of second roll is 2.50124\n",
      "var of second roll is 1.2539384624\n",
      "\n",
      "mean of sum is 4.99566\n",
      "var of sum is 2.5019611644\n",
      "cov between first and second roll is [[ 1.25080137 -0.00138309]\n",
      " [-0.00138309  1.253951  ]]\n",
      "\n"
     ]
    },
    {
     "data": {
      "text/plain": [
       "<Axes: ylabel='Probability'>"
      ]
     },
     "execution_count": 11,
     "metadata": {},
     "output_type": "execute_result"
    },
    {
     "data": {
      "image/png": "[encoded data removed]",
      "text/plain": [
       "<Figure size 640x480 with 1 Axes>"
      ]
     },
     "metadata": {},
     "output_type": "display_data"
    }
   ],
   "source": [
    "# You can use this cell for your calculations (not graded)\n",
    "\n",
    "dice = [1, 2, 3, 4]\n",
    "\n",
    "#\n",
    "# Calculate by simulation.\n",
    "#\n",
    "num_rolls = 100_000\n",
    "\n",
    "first_rolls = np.array([np.random.choice(dice) for _ in range(num_rolls)])\n",
    "second_rolls = np.array([np.random.choice(dice) for _ in range(num_rolls)])\n",
    "sum_rolls = first_rolls + second_rolls\n",
    "\n",
    "mean = np.mean(sum_rolls)\n",
    "var = np.var(sum_rolls)\n",
    "cov = np.cov(first_rolls, second_rolls)\n",
    "\n",
    "print(f'mean of first roll is {np.mean(first_rolls)}')\n",
    "print(f'var of first roll is {np.var(first_rolls)}')\n",
    "print()\n",
    "print(f'mean of second roll is {np.mean(second_rolls)}')\n",
    "print(f'var of second roll is {np.var(second_rolls)}')\n",
    "print()\n",
    "print(f'mean of sum is {mean}')\n",
    "print(f'var of sum is {var}')\n",
    "print(f'cov between first and second roll is {cov}')\n",
    "print()\n",
    "\n",
    "sns.histplot(sum_rolls, stat='probability', discrete=True)\n",
    "\n",
    "#\n",
    "# Calculate by math.\n",
    "#\n",
    "\n",
    "# Here's a step-by-step guide to compute the covariance between the results of two rolls of a 6-sided dice:\n",
    "#\n",
    "# 1. Define Variables:\n",
    "#\n",
    "# Let X represent the result of the first roll. (X can take values 1, 2, 3, 4, 5, or 6)\n",
    "# Let Y represent the result of the second roll. (Y can also take values 1, 2, 3, 4, 5, or 6)\n",
    "#\n",
    "# 2. Expected Value (Mean):\n",
    "#\n",
    "# We need the expected value (average) of both X and Y. Since each number on the die \n",
    "# appears with equal probability (1/6), the expected value for both X and Y will be:\n",
    "#\n",
    "# E(X) = E(Y) = (1 + 2 + 3 + 4 + 5 + 6) / 6 = 21 / 6 = 3.5\n",
    "#\n",
    "# 3. Covariance Formula:\n",
    "#\n",
    "# The covariance (Cov(X, Y)) measures how much the two variables tend to deviate from their \n",
    "# individual means together. Here's the formula:\n",
    "#\n",
    "# Cov(X, Y) = E[ (X - E(X)) * (Y - E(Y)) ]\n",
    "#\n",
    "# 4. Apply the Formula:\n",
    "#\n",
    "# Break down the formula step-by-step:\n",
    "#\n",
    "# (X - E(X)): This represents the deviation of the first roll (X) from its expected value (3.5).\n",
    "# (Y - E(Y)): This represents the deviation of the second roll (Y) from its expected value (3.5).\n",
    "# E[ ... ]: This signifies the expected value of the product of these deviations.\n",
    "#\n",
    "# Let's explicitly calculate the covariance using all 36 outcomes to demonstrate how the terms tend to cancel out.\n",
    "# \n",
    "# 1. List All Outcomes:\n",
    "# \n",
    "# There are 6 possibilities for each roll (X and Y), resulting in 36 total combinations (6 x 6).\n",
    "# We'll represent them as (X, Y) pairs:\n",
    "# \n",
    "# (1, 1), (1, 2), (1, 3), (1, 4), (1, 5), (1, 6),\n",
    "# (2, 1), (2, 2), (2, 3), (2, 4), (2, 5), (2, 6),\n",
    "# ...\n",
    "# (6, 5), (6, 6)\n",
    "# \n",
    "# 2. Calculate Deviations:\n",
    "# \n",
    "# We know E(X) = E(Y) = 3.5. So, calculate the deviation (dX and dY) for each outcome:\n",
    "# \n",
    "# (X, Y): (dX, dY)\n",
    "# (1, 1): (-2.5, -2.5)\n",
    "# (1, 2): (-2.5, -1.5)\n",
    "# (1, 3): (-2.5, -0.5)\n",
    "# ...\n",
    "# (6, 5): (2.5, 1.5)\n",
    "# (6, 6): (2.5, 2.5)\n",
    "#\n",
    "# 3. Product of Deviations (dX * dY):\n",
    "# \n",
    "# For each outcome, multiply the corresponding deviations:\n",
    "# \n",
    "# (X, Y): dX * dY\n",
    "# (1, 1): (-2.5) * (-2.5) = 6.25\n",
    "# (1, 2): (-2.5) * (-1.5) = 3.75\n",
    "# (1, 3): (-2.5) * (-0.5) = 1.25\n",
    "# ...\n",
    "# (6, 5): (2.5) * (1.5) = 3.75\n",
    "# (6, 6): (2.5) * (2.5) = 6.25\n",
    "#\n",
    "# 4. Expected Value (Average):\n",
    "# \n",
    "# Since each outcome is equally likely (1/36), the covariance is the average of these product terms:\n",
    "# \n",
    "# Cov(X, Y) = ( Σ (dX * dY) ) / 36\n",
    "# \n",
    "# Calculate the sum (Σ) of all product terms:\n",
    "# \n",
    "# Add all the values from step 3 (dX * dY for each outcome).\n",
    "# Divide by 36:\n",
    "# \n",
    "# The result will be a very small number close to zero. \n",
    "# This demonstrates that even though some terms are positive (product of deviations with the same sign),\n",
    "# they are balanced out by negative terms (product with opposite signs) due to the randomness of the rolls.\n",
    "#\n",
    "# Conclusion: \n",
    "#\n",
    "# Although we haven't done the full addition, this breakdown illustrates that the positive and \n",
    "# negative terms from the product of deviations will tend to cancel each other out when averaged\n",
    "# across all outcomes. This reinforces the concept that the covariance between two independent\n",
    "# rolls of a fair dice is 0.\n",
    "\n",
    "\n",
    "\n"
   ]
  },
  {
   "cell_type": "code",
   "execution_count": 12,
   "id": "4e662b9b",
   "metadata": {},
   "outputs": [
    {
     "data": {
      "application/vnd.jupyter.widget-view+json": {
       "model_id": "b9495cafc92443ffaf9f3ca49c75f902",
       "version_major": 2,
       "version_minor": 0
      },
      "text/plain": [
       "FloatText(value=0.0, description='Mean:')"
      ]
     },
     "metadata": {},
     "output_type": "display_data"
    },
    {
     "data": {
      "application/vnd.jupyter.widget-view+json": {
       "model_id": "53689424e9d1477490a72d830e7563b3",
       "version_major": 2,
       "version_minor": 0
      },
      "text/plain": [
       "FloatText(value=0.0, description='Variance:')"
      ]
     },
     "metadata": {},
     "output_type": "display_data"
    },
    {
     "data": {
      "application/vnd.jupyter.widget-view+json": {
       "model_id": "6bf27f91715941538bd65d8e5f51d2d5",
       "version_major": 2,
       "version_minor": 0
      },
      "text/plain": [
       "FloatText(value=0.0, description='Covariance:')"
      ]
     },
     "metadata": {},
     "output_type": "display_data"
    },
    {
     "data": {
      "application/vnd.jupyter.widget-view+json": {
       "model_id": "d6875d0e5f76488d8c30dbb9376979b3",
       "version_major": 2,
       "version_minor": 0
      },
      "text/plain": [
       "Button(button_style='success', description='Save your answer!', style=ButtonStyle())"
      ]
     },
     "metadata": {},
     "output_type": "display_data"
    },
    {
     "data": {
      "application/vnd.jupyter.widget-view+json": {
       "model_id": "eeb4ef155e4c4692abe0968c4e960164",
       "version_major": 2,
       "version_minor": 0
      },
      "text/plain": [
       "Output()"
      ]
     },
     "metadata": {},
     "output_type": "display_data"
    }
   ],
   "source": [
    "# Run this cell to submit your answer\n",
    "utils.exercise_4()"
   ]
  },
  {
   "cell_type": "markdown",
   "id": "714e099b",
   "metadata": {},
   "source": [
    "## Exercise 5:\n",
    "\n",
    "\n",
    "Now suppose you are have a loaded 4-sided dice (it is loaded so that it lands twice as often on side 2 compared to the other sides): \n",
    "\n",
    "\n",
    "<img src=\"./images/4_side_uf.png\" style=\"height: 300px;\"/>\n",
    "\n",
    "You are throwing it two times and recording the sum of each throw. Which of the following `probability mass functions` will be the one you should get?\n",
    "\n",
    "<table><tr>\n",
    "<td> <img src=\"./images/hist_sum_4_4l.png\" style=\"height: 300px;\"/> </td>\n",
    "<td> <img src=\"./images/hist_sum_4_3l.png\" style=\"height: 300px;\"/> </td>\n",
    "<td> <img src=\"./images/hist_sum_4_uf.png\" style=\"height: 300px;\"/> </td>\n",
    "</tr></table>"
   ]
  },
  {
   "cell_type": "markdown",
   "id": "ecb27c1b",
   "metadata": {},
   "source": [
    "Hints: \n",
    "- You can use the `p` parameter of [np.random.choice](https://numpy.org/doc/stable/reference/random/generated/numpy.random.choice.html) to simulate a loaded dice."
   ]
  },
  {
   "cell_type": "code",
   "execution_count": 13,
   "id": "a35573ec",
   "metadata": {},
   "outputs": [
    {
     "data": {
      "text/plain": [
       "<Axes: ylabel='Probability'>"
      ]
     },
     "execution_count": 13,
     "metadata": {},
     "output_type": "execute_result"
    },
    {
     "data": {
      "image/png": "[encoded data removed]",
      "text/plain": [
       "<Figure size 640x480 with 1 Axes>"
      ]
     },
     "metadata": {},
     "output_type": "display_data"
    }
   ],
   "source": [
    "# You can use this cell for your calculations (not graded)\n",
    "\n",
    "def loaded_dice(n_sides, loaded_side):\n",
    "    \n",
    "    # All probabilities are initially the same\n",
    "    probs = np.array([1 / (n_sides + 1) for _ in range(n_sides)])\n",
    "    \n",
    "    # Double the probability of the loaded side\n",
    "    probs[loaded_side - 1] = 1 - np.sum(probs[:-1])\n",
    "    \n",
    "    if not np.isclose(np.sum(probs), 1):\n",
    "        print('All probabilities should add up to 1.');\n",
    "        return\n",
    "        \n",
    "    return probs\n",
    "\n",
    "dice = [1, 2, 3, 4]\n",
    "loaded_prob = loaded_dice(4, 2)\n",
    "\n",
    "num_rolls = 10_000\n",
    "first_rolls = np.array([np.random.choice(dice, p=loaded_prob) for _ in range(num_rolls)])\n",
    "second_rolls = np.array([np.random.choice(dice, p=loaded_prob) for _ in range(num_rolls)])\n",
    "sum_rolls = first_rolls + second_rolls\n",
    "\n",
    "sns.histplot(sum_rolls, stat='probability', discrete=True)\n",
    "\n",
    "\n"
   ]
  },
  {
   "cell_type": "code",
   "execution_count": 14,
   "id": "3104e647",
   "metadata": {},
   "outputs": [
    {
     "data": {
      "application/vnd.jupyter.widget-view+json": {
       "model_id": "9e498fd8a0284cfc8b1b128c0862a918",
       "version_major": 2,
       "version_minor": 0
      },
      "text/plain": [
       "ToggleButtons(description='Your answer:', options=('left', 'center', 'right'), value='left')"
      ]
     },
     "metadata": {},
     "output_type": "display_data"
    },
    {
     "data": {
      "application/vnd.jupyter.widget-view+json": {
       "model_id": "be0ccc3ae1374a0cbd531ce8382201cc",
       "version_major": 2,
       "version_minor": 0
      },
      "text/plain": [
       "Button(button_style='success', description='Save your answer!', style=ButtonStyle())"
      ]
     },
     "metadata": {},
     "output_type": "display_data"
    },
    {
     "data": {
      "application/vnd.jupyter.widget-view+json": {
       "model_id": "cacfce3cafba4e369d19264087ee4bac",
       "version_major": 2,
       "version_minor": 0
      },
      "text/plain": [
       "Output()"
      ]
     },
     "metadata": {},
     "output_type": "display_data"
    }
   ],
   "source": [
    "# Run this cell to submit your answer\n",
    "utils.exercise_5()"
   ]
  },
  {
   "cell_type": "markdown",
   "id": "0d0f3429",
   "metadata": {},
   "source": [
    "## Exercise 6:\n",
    "\n",
    "You have a 6-sided dice that is loaded so that it lands twice as often on side 3 compared to the other sides:\n",
    "\n",
    "<img src=\"./images/loaded_6_side.png\" style=\"height: 300px;\"/>\n",
    "\n",
    "You record the sum of throwing it twice. What is the highest value (of the sum) that will yield a cumulative probability lower or equal to 0.5?\n",
    "\n",
    "<img src=\"./images/loaded_6_cdf.png\" style=\"height: 300px;\"/>\n",
    "\n",
    "Hints:\n",
    "- The probability of side 3 is equal to $\\frac{2}{7}$"
   ]
  },
  {
   "cell_type": "code",
   "execution_count": 15,
   "id": "10feaaa8",
   "metadata": {},
   "outputs": [
    {
     "data": {
      "text/plain": [
       "<Axes: ylabel='Probability'>"
      ]
     },
     "execution_count": 15,
     "metadata": {},
     "output_type": "execute_result"
    },
    {
     "data": {
      "image/png": "[encoded data removed]",
      "text/plain": [
       "<Figure size 640x480 with 1 Axes>"
      ]
     },
     "metadata": {},
     "output_type": "display_data"
    }
   ],
   "source": [
    "# You can use this cell for your calculations (not graded)\n",
    "\n",
    "dice = [1, 2, 3, 4, 5, 6]\n",
    "loaded_prob = loaded_dice(6, 3)\n",
    "\n",
    "num_rolls = 10_000\n",
    "first_rolls = np.array([np.random.choice(dice, p=loaded_prob) for _ in range(num_rolls)])\n",
    "second_rolls = np.array([np.random.choice(dice, p=loaded_prob) for _ in range(num_rolls)])\n",
    "sum_rolls = first_rolls + second_rolls\n",
    "\n",
    "sns.histplot(sum_rolls, cumulative=True, stat='probability', discrete=True)"
   ]
  },
  {
   "cell_type": "code",
   "execution_count": 16,
   "id": "963e5763",
   "metadata": {},
   "outputs": [
    {
     "data": {
      "application/vnd.jupyter.widget-view+json": {
       "model_id": "b2be5189ba524072b6d27bcb6af26480",
       "version_major": 2,
       "version_minor": 0
      },
      "text/plain": [
       "IntSlider(value=2, continuous_update=False, description='Sum:', max=12, min=2)"
      ]
     },
     "metadata": {},
     "output_type": "display_data"
    },
    {
     "data": {
      "application/vnd.jupyter.widget-view+json": {
       "model_id": "bf9113fdf26f4943a774288f2e8c489c",
       "version_major": 2,
       "version_minor": 0
      },
      "text/plain": [
       "Button(button_style='success', description='Save your answer!', style=ButtonStyle())"
      ]
     },
     "metadata": {},
     "output_type": "display_data"
    },
    {
     "data": {
      "application/vnd.jupyter.widget-view+json": {
       "model_id": "00cdb989c92e4337b13251b5a1a5fddb",
       "version_major": 2,
       "version_minor": 0
      },
      "text/plain": [
       "Output()"
      ]
     },
     "metadata": {},
     "output_type": "display_data"
    }
   ],
   "source": [
    "# Run this cell to submit your answer\n",
    "utils.exercise_6()"
   ]
  },
  {
   "cell_type": "markdown",
   "id": "f6684426",
   "metadata": {},
   "source": [
    "## Exercise 7:\n",
    "\n",
    "Given a 6-sided fair dice you try a new game. You only throw the dice a second time if the result of the first throw is **lower** or equal to 3. Which of the following `probability mass functions` will be the one you should get given this new constraint?\n",
    "\n",
    "<table><tr>\n",
    "<td> <img src=\"./images/6_sided_cond_green.png\" style=\"height: 250px;\"/> </td>\n",
    "<td> <img src=\"./images/6_sided_cond_blue.png\" style=\"height: 250px;\"/> </td>\n",
    "<td> <img src=\"./images/6_sided_cond_red.png\" style=\"height: 250px;\"/> </td>\n",
    "<td> <img src=\"./images/6_sided_cond_brown.png\" style=\"height: 250px;\"/> </td>\n",
    "\n",
    "</tr></table>\n",
    "\n",
    "Hints:\n",
    "- You can simulate the second throws as a numpy array and then make the values that met a certain criteria equal to 0 by using [np.where](https://numpy.org/doc/stable/reference/generated/numpy.where.html)"
   ]
  },
  {
   "cell_type": "code",
   "execution_count": 17,
   "id": "9e64d178",
   "metadata": {},
   "outputs": [
    {
     "data": {
      "text/plain": [
       "<Axes: ylabel='Probability'>"
      ]
     },
     "execution_count": 17,
     "metadata": {},
     "output_type": "execute_result"
    },
    {
     "data": {
      "image/png": "[encoded data removed]",
      "text/plain": [
       "<Figure size 640x480 with 1 Axes>"
      ]
     },
     "metadata": {},
     "output_type": "display_data"
    }
   ],
   "source": [
    "# You can use this cell for your calculations (not graded)\n",
    "\n",
    "dice = [1, 2, 3, 4, 5, 6]\n",
    "num_rolls = 10_000\n",
    "first_rolls = np.array([np.random.choice(dice) for _ in range(num_rolls)])\n",
    "second_rolls = np.array([np.random.choice(dice) for _ in range(num_rolls)])\n",
    "second_rolls = np.where(first_rolls <= 3, second_rolls, 0)\n",
    "sum_rolls = first_rolls + second_rolls\n",
    "\n",
    "sns.histplot(sum_rolls, stat='probability', discrete=True)\n",
    "\n",
    "\n"
   ]
  },
  {
   "cell_type": "code",
   "execution_count": 18,
   "id": "82a4db40",
   "metadata": {},
   "outputs": [
    {
     "data": {
      "application/vnd.jupyter.widget-view+json": {
       "model_id": "4288ddfae264488d94ced6918ffe5cae",
       "version_major": 2,
       "version_minor": 0
      },
      "text/plain": [
       "ToggleButtons(description='Your answer:', options=('left-most', 'left-center', 'right-center', 'right-most'), …"
      ]
     },
     "metadata": {},
     "output_type": "display_data"
    },
    {
     "data": {
      "application/vnd.jupyter.widget-view+json": {
       "model_id": "07528364bfdf4832b91c3848b34629dc",
       "version_major": 2,
       "version_minor": 0
      },
      "text/plain": [
       "Button(button_style='success', description='Save your answer!', style=ButtonStyle())"
      ]
     },
     "metadata": {},
     "output_type": "display_data"
    },
    {
     "data": {
      "application/vnd.jupyter.widget-view+json": {
       "model_id": "83a002bb1f474360925f915388ede422",
       "version_major": 2,
       "version_minor": 0
      },
      "text/plain": [
       "Output()"
      ]
     },
     "metadata": {},
     "output_type": "display_data"
    }
   ],
   "source": [
    "# Run this cell to submit your answer\n",
    "utils.exercise_7()"
   ]
  },
  {
   "cell_type": "markdown",
   "id": "ba973eaf",
   "metadata": {},
   "source": [
    "## Exercise 8:\n",
    "\n",
    "Given the same scenario as in the previous exercise but with the twist that you only throw the dice a second time if the result of the first throw is **greater** or equal to 3. Which of the following `probability mass functions` will be the one you should get given this new constraint?\n",
    "\n",
    "<table><tr>\n",
    "<td> <img src=\"./images/6_sided_cond_green2.png\" style=\"height: 250px;\"/> </td>\n",
    "<td> <img src=\"./images/6_sided_cond_blue2.png\" style=\"height: 250px;\"/> </td>\n",
    "<td> <img src=\"./images/6_sided_cond_red2.png\" style=\"height: 250px;\"/> </td>\n",
    "<td> <img src=\"./images/6_sided_cond_brown2.png\" style=\"height: 250px;\"/> </td>\n",
    "\n",
    "</tr></table>\n"
   ]
  },
  {
   "cell_type": "code",
   "execution_count": 19,
   "id": "4d25300f",
   "metadata": {},
   "outputs": [
    {
     "data": {
      "text/plain": [
       "<Axes: ylabel='Probability'>"
      ]
     },
     "execution_count": 19,
     "metadata": {},
     "output_type": "execute_result"
    },
    {
     "data": {
      "image/png": "[encoded data removed]",
      "text/plain": [
       "<Figure size 640x480 with 1 Axes>"
      ]
     },
     "metadata": {},
     "output_type": "display_data"
    }
   ],
   "source": [
    "# You can use this cell for your calculations (not graded)\n",
    "\n",
    "dice = [1, 2, 3, 4, 5, 6]\n",
    "num_rolls = 10_000\n",
    "first_rolls = np.array([np.random.choice(dice) for _ in range(num_rolls)])\n",
    "second_rolls = np.array([np.random.choice(dice) for _ in range(num_rolls)])\n",
    "second_rolls = np.where(first_rolls >= 3, second_rolls, 0)\n",
    "sum_rolls = first_rolls + second_rolls\n",
    "\n",
    "sns.histplot(sum_rolls, stat='probability', discrete=True)\n",
    "\n"
   ]
  },
  {
   "cell_type": "code",
   "execution_count": 20,
   "id": "33bb9fd2",
   "metadata": {},
   "outputs": [
    {
     "data": {
      "application/vnd.jupyter.widget-view+json": {
       "model_id": "a42f7f5dd61047918807fee5b3f01ba6",
       "version_major": 2,
       "version_minor": 0
      },
      "text/plain": [
       "ToggleButtons(description='Your answer:', options=('left-most', 'left-center', 'right-center', 'right-most'), …"
      ]
     },
     "metadata": {},
     "output_type": "display_data"
    },
    {
     "data": {
      "application/vnd.jupyter.widget-view+json": {
       "model_id": "4ff0a2ba108d4b9e8de643498da2b12d",
       "version_major": 2,
       "version_minor": 0
      },
      "text/plain": [
       "Button(button_style='success', description='Save your answer!', style=ButtonStyle())"
      ]
     },
     "metadata": {},
     "output_type": "display_data"
    },
    {
     "data": {
      "application/vnd.jupyter.widget-view+json": {
       "model_id": "f937d6e22caf4f2bb0e309c15b0618d9",
       "version_major": 2,
       "version_minor": 0
      },
      "text/plain": [
       "Output()"
      ]
     },
     "metadata": {},
     "output_type": "display_data"
    }
   ],
   "source": [
    "# Run this cell to submit your answer\n",
    "utils.exercise_8()"
   ]
  },
  {
   "cell_type": "markdown",
   "id": "017e9b22",
   "metadata": {},
   "source": [
    "## Exercise 9:\n",
    "\n",
    "Given a n-sided fair dice. You throw it twice and record the sum. How does increasing the number of sides `n` of the dice impact the mean and variance of the sum and the covariance of the joint distribution?"
   ]
  },
  {
   "cell_type": "code",
   "execution_count": 21,
   "id": "645a9b74",
   "metadata": {},
   "outputs": [
    {
     "name": "stdout",
     "output_type": "stream",
     "text": [
      "6 sides: (3.4769, 2.91646639, array([[2.91675807, 0.04051113],\n",
      "       [0.04051113, 2.92484624]]))\n",
      "7 sides: (3.9708, 4.02494736, array([[ 4.02534989, -0.03452897],\n",
      "       [-0.03452897,  4.02951459]]))\n",
      "8 sides: (4.4853, 5.36558391, array([[ 5.36612052, -0.00541538],\n",
      "       [-0.00541538,  5.22080224]]))\n",
      "9 sides: (5.0106, 6.654687640000001, array([[ 6.65535318, -0.1456082 ],\n",
      "       [-0.1456082 ,  6.61286093]]))\n",
      "10 sides: (5.5194, 8.28402364, array([[8.28485213, 0.10134893],\n",
      "       [0.10134893, 8.29122512]]))\n",
      "11 sides: (5.9587, 9.971594309999999, array([[9.97259157, 0.07587374],\n",
      "       [0.07587374, 9.92823257]]))\n",
      "12 sides: (6.5002, 11.889599960000002, array([[11.89078904, -0.05804626],\n",
      "       [-0.05804626, 11.81150586]]))\n"
     ]
    }
   ],
   "source": [
    "# You can use this cell for your calculations (not graded)\n",
    "\n",
    "def n_side_dice(n):\n",
    "    num_rolls = 10_000\n",
    "    dice = [i for i in range(1, n + 1)]\n",
    "    first_rolls = np.array([np.random.choice(dice) for _ in range(num_rolls)])\n",
    "    second_rolls = np.array([np.random.choice(dice) for _ in range(num_rolls)])\n",
    "    sum_of_rolls = first_rolls + second_rolls\n",
    "\n",
    "    mean = np.mean(first_rolls)\n",
    "    var = np.var(first_rolls)\n",
    "    cov = np.cov(first_rolls, second_rolls)\n",
    "    \n",
    "    return (mean, var, cov)\n",
    "    \n",
    "print(f'6 sides: {n_side_dice(6)}')\n",
    "print(f'7 sides: {n_side_dice(7)}')\n",
    "print(f'8 sides: {n_side_dice(8)}')\n",
    "print(f'9 sides: {n_side_dice(9)}')\n",
    "print(f'10 sides: {n_side_dice(10)}')\n",
    "print(f'11 sides: {n_side_dice(11)}')\n",
    "print(f'12 sides: {n_side_dice(12)}')\n"
   ]
  },
  {
   "cell_type": "code",
   "execution_count": 22,
   "id": "907412da",
   "metadata": {},
   "outputs": [
    {
     "name": "stdout",
     "output_type": "stream",
     "text": [
      "As the number of sides in the die increases:\n"
     ]
    },
    {
     "data": {
      "application/vnd.jupyter.widget-view+json": {
       "model_id": "be667e1951e247578cd005078ab97c95",
       "version_major": 2,
       "version_minor": 0
      },
      "text/plain": [
       "ToggleButtons(description='The mean of the sum:', options=('stays the same', 'increases', 'decreases'), value=…"
      ]
     },
     "metadata": {},
     "output_type": "display_data"
    },
    {
     "data": {
      "application/vnd.jupyter.widget-view+json": {
       "model_id": "142de64934a34badaa82aec3d4b3dcec",
       "version_major": 2,
       "version_minor": 0
      },
      "text/plain": [
       "ToggleButtons(description='The variance of the sum:', options=('stays the same', 'increases', 'decreases'), va…"
      ]
     },
     "metadata": {},
     "output_type": "display_data"
    },
    {
     "data": {
      "application/vnd.jupyter.widget-view+json": {
       "model_id": "3cc6ccc5fedf4b35a6425faa0585a342",
       "version_major": 2,
       "version_minor": 0
      },
      "text/plain": [
       "ToggleButtons(description='The covariance of the joint distribution:', options=('stays the same', 'increases',…"
      ]
     },
     "metadata": {},
     "output_type": "display_data"
    },
    {
     "data": {
      "application/vnd.jupyter.widget-view+json": {
       "model_id": "e8fa0dacb58b45e5974b144fd27f7af7",
       "version_major": 2,
       "version_minor": 0
      },
      "text/plain": [
       "Button(button_style='success', description='Save your answer!', style=ButtonStyle())"
      ]
     },
     "metadata": {},
     "output_type": "display_data"
    },
    {
     "data": {
      "application/vnd.jupyter.widget-view+json": {
       "model_id": "23c50a126e6d43a3a724d3c05f2ebf14",
       "version_major": 2,
       "version_minor": 0
      },
      "text/plain": [
       "Output()"
      ]
     },
     "metadata": {},
     "output_type": "display_data"
    }
   ],
   "source": [
    "# Run this cell to submit your answer\n",
    "utils.exercise_9()"
   ]
  },
  {
   "cell_type": "markdown",
   "id": "fcf9b3ac",
   "metadata": {},
   "source": [
    "## Exercise 10:\n",
    "\n",
    "Given a 6-sided loaded dice. You throw it twice and record the sum. Which of the following statemets is true?"
   ]
  },
  {
   "cell_type": "code",
   "execution_count": 23,
   "id": "008c5858",
   "metadata": {},
   "outputs": [
    {
     "name": "stdout",
     "output_type": "stream",
     "text": [
      "(6.2723, 6.5095527099999995, array([[ 3.26553947, -0.010687  ],\n",
      "       [-0.010687  ,  3.26571272]]))\n",
      "(6.5707, 5.52390151, array([[ 2.76122957, -0.0116886 ],\n",
      "       [-0.0116886 ,  2.78632536]]))\n",
      "(6.8525, 5.09914375, array([[2.53559306, 0.01186594],\n",
      "       [0.01186594, 2.54007378]]))\n",
      "(7.14155, 5.0646135975, array([[2.51435528, 0.01726541],\n",
      "       [0.01726541, 2.51598074]]))\n",
      "(7.4514, 5.5954380399999994, array([[2.77611278, 0.02805922],\n",
      "       [0.02805922, 2.76348661]]))\n",
      "(7.72, 6.4584, array([[ 3.26536766, -0.01732326],\n",
      "       [-0.01732326,  3.22800179]]))\n"
     ]
    }
   ],
   "source": [
    "# You can use this cell for your calculations (not graded)\n",
    "\n",
    "def roll_twice(loaded_side):\n",
    "    num_rolls = 20_000\n",
    "    dice = [1, 2, 3, 4, 5, 6]\n",
    "    prob = loaded_dice(len(dice), loaded_side)\n",
    "    first_rolls = np.array([np.random.choice(dice, p=prob) for _ in range(num_rolls)])\n",
    "    second_rolls = np.array([np.random.choice(dice, p=prob) for _ in range(num_rolls)])\n",
    "    sum_rolls = first_rolls + second_rolls\n",
    "    return (np.mean(sum_rolls), np.var(sum_rolls), np.cov(first_rolls, second_rolls))\n",
    "\n",
    "#\n",
    "# A) mean and variance are not the same.\n",
    "#\n",
    "print(roll_twice(1))\n",
    "print(roll_twice(2))\n",
    "print(roll_twice(3))\n",
    "print(roll_twice(4))\n",
    "print(roll_twice(5))\n",
    "print(roll_twice(6))\n",
    "\n",
    "#\n",
    "# B) No because first and second dice are independent.  Cov should be close to zero.\n",
    "#\n",
    "\n",
    "#\n",
    "# C) Didn't test because D is correct.\n",
    "#\n",
    "\n",
    "#\n",
    "# D) correct\n",
    "#\n"
   ]
  },
  {
   "cell_type": "code",
   "execution_count": 24,
   "id": "99373567",
   "metadata": {},
   "outputs": [
    {
     "data": {
      "application/vnd.jupyter.widget-view+json": {
       "model_id": "e17385fbbc47435ea56e4d9d3a2e09e0",
       "version_major": 2,
       "version_minor": 0
      },
      "text/plain": [
       "RadioButtons(layout=Layout(width='max-content'), options=('the mean and variance is the same regardless of whi…"
      ]
     },
     "metadata": {},
     "output_type": "display_data"
    },
    {
     "data": {
      "application/vnd.jupyter.widget-view+json": {
       "model_id": "03665293f26f4bca80398fd228d897c7",
       "version_major": 2,
       "version_minor": 0
      },
      "text/plain": [
       "Button(button_style='success', description='Save your answer!', style=ButtonStyle())"
      ]
     },
     "metadata": {},
     "output_type": "display_data"
    },
    {
     "data": {
      "application/vnd.jupyter.widget-view+json": {
       "model_id": "c95e45af043943d0b60d2ec0413df770",
       "version_major": 2,
       "version_minor": 0
      },
      "text/plain": [
       "Output()"
      ]
     },
     "metadata": {},
     "output_type": "display_data"
    }
   ],
   "source": [
    "# Run this cell to submit your answer\n",
    "utils.exercise_10()"
   ]
  },
  {
   "cell_type": "markdown",
   "id": "0a84afef",
   "metadata": {},
   "source": [
    "## Exercise 11:\n",
    "\n",
    "Given a fair n-sided dice. You throw it twice and record the sum but the second throw depends on the result of the first one such as in exercises 7 and 8. Which of the following statements is true?"
   ]
  },
  {
   "cell_type": "code",
   "execution_count": 25,
   "id": "7cb6ad84",
   "metadata": {},
   "outputs": [],
   "source": [
    "# You can use this cell for your calculations (not graded)\n",
    "\n",
    "dice = [1, 2, 3, 4, 5, 6]\n",
    "num_rolls = 10_000\n",
    "first_rolls = np.array([np.random.choice(dice) for _ in range(num_rolls)])\n",
    "second_rolls = np.array([np.random.choice(dice) for _ in range(num_rolls)])\n",
    "second_rolls = np.where(first_rolls <= 3, second_rolls, 0)\n",
    "#second_rolls = np.where(first_rolls >= 3, second_rolls, 0)\n",
    "sum_rolls = first_rolls + second_rolls\n",
    "\n",
    "\n"
   ]
  },
  {
   "cell_type": "code",
   "execution_count": 26,
   "id": "9b048c03",
   "metadata": {},
   "outputs": [
    {
     "data": {
      "application/vnd.jupyter.widget-view+json": {
       "model_id": "e94350ee22104fc9b2c27634e669a28e",
       "version_major": 2,
       "version_minor": 0
      },
      "text/plain": [
       "RadioButtons(layout=Layout(width='max-content'), options=('yes, but only if one of the sides is loaded', 'no, …"
      ]
     },
     "metadata": {},
     "output_type": "display_data"
    },
    {
     "data": {
      "application/vnd.jupyter.widget-view+json": {
       "model_id": "143e1c998b72479b9050005205273cf9",
       "version_major": 2,
       "version_minor": 0
      },
      "text/plain": [
       "Button(button_style='success', description='Save your answer!', style=ButtonStyle())"
      ]
     },
     "metadata": {},
     "output_type": "display_data"
    },
    {
     "data": {
      "application/vnd.jupyter.widget-view+json": {
       "model_id": "b15051502f264284a99def5d53208d2f",
       "version_major": 2,
       "version_minor": 0
      },
      "text/plain": [
       "Output()"
      ]
     },
     "metadata": {},
     "output_type": "display_data"
    }
   ],
   "source": [
    "# Run this cell to submit your answer\n",
    "utils.exercise_11()"
   ]
  },
  {
   "cell_type": "markdown",
   "id": "f8a1a8a3",
   "metadata": {},
   "source": [
    "## Exercise 12:\n",
    "\n",
    "Given a n-sided dice (could be fair or not). You throw it twice and record the sum (there is no dependance between the throws). If you are only given the histogram of the sums can you use it to know which are the probabilities of the dice landing on each side?\n",
    "\n",
    "In other words, if you are provided with only the histogram of the sums like this one:\n",
    "<td> <img src=\"./images/hist_sum_6_side.png\" style=\"height: 300px;\"/> </td>\n",
    "\n",
    "Could you use it to know the probabilities of the dice landing on each side? Which will be equivalent to finding this histogram:\n",
    "<img src=\"./images/fair_dice.png\" style=\"height: 300px;\"/>\n"
   ]
  },
  {
   "cell_type": "code",
   "execution_count": 27,
   "id": "b42149cf",
   "metadata": {},
   "outputs": [],
   "source": [
    "# You can use this cell for your calculations (not graded)\n",
    "\n"
   ]
  },
  {
   "cell_type": "code",
   "execution_count": 28,
   "id": "33a2e4d9",
   "metadata": {},
   "outputs": [
    {
     "ename": "AttributeError",
     "evalue": "module 'utils' has no attribute 'exercise_12'",
     "output_type": "error",
     "traceback": [
      "\u001b[0;31m---------------------------------------------------------------------------\u001b[0m",
      "\u001b[0;31mAttributeError\u001b[0m                            Traceback (most recent call last)",
      "Cell \u001b[0;32mIn[28], line 2\u001b[0m\n\u001b[1;32m      1\u001b[0m \u001b[38;5;66;03m# Run this cell to submit your answer\u001b[39;00m\n\u001b[0;32m----> 2\u001b[0m \u001b[43mutils\u001b[49m\u001b[38;5;241;43m.\u001b[39;49m\u001b[43mexercise_12\u001b[49m()\n",
      "\u001b[0;31mAttributeError\u001b[0m: module 'utils' has no attribute 'exercise_12'"
     ]
    }
   ],
   "source": [
    "# Run this cell to submit your answer\n",
    "utils.exercise_12()"
   ]
  },
  {
   "cell_type": "markdown",
   "id": "1635ca7c",
   "metadata": {},
   "source": [
    "## Before Submitting Your Assignment\n",
    "\n",
    "Run the next cell to check that you have answered all of the exercises"
   ]
  },
  {
   "cell_type": "code",
   "execution_count": null,
   "id": "c6822278",
   "metadata": {},
   "outputs": [],
   "source": [
    "utils.check_submissions()"
   ]
  },
  {
   "cell_type": "markdown",
   "id": "5286008f",
   "metadata": {},
   "source": [
    "**Congratulations on finishing this assignment!**\n",
    "\n",
    "During this assignment you tested your knowledge on probability distributions, descriptive statistics and visual interpretation of these concepts. You had the choice to compute everything analytically or create simulations to assist you get the right answer. You probably also realized that some exercises could be answered without any computations just by looking at certain hidden queues that the visualizations revealed.\n",
    "\n",
    "**Keep up the good work!**\n"
   ]
  }
 ],
 "metadata": {
  "kernelspec": {
   "display_name": "Python 3 (ipykernel)",
   "language": "python",
   "name": "python3"
  },
  "language_info": {
   "codemirror_mode": {
    "name": "ipython",
    "version": 3
   },
   "file_extension": ".py",
   "mimetype": "text/x-python",
   "name": "python",
   "nbconvert_exporter": "python",
   "pygments_lexer": "ipython3",
   "version": "3.10.11"
  }
 },
 "nbformat": 4,
 "nbformat_minor": 5
}
